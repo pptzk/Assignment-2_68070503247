{
  "cells": [
    {
      "cell_type": "markdown",
      "metadata": {
        "id": "view-in-github",
        "colab_type": "text"
      },
      "source": [
        "<a href=\"https://colab.research.google.com/github/pptzk/Assignment-2_68070503247/blob/main/Practice%2BNumbers%2C%2BStrings%2C%2Band%2BLists%2BPractice.ipynb\" target=\"_parent\"><img src=\"https://colab.research.google.com/assets/colab-badge.svg\" alt=\"Open In Colab\"/></a>"
      ]
    },
    {
      "cell_type": "markdown",
      "metadata": {
        "id": "qYD40NE7r0MV"
      },
      "source": [
        "#  Numbers"
      ]
    },
    {
      "cell_type": "markdown",
      "metadata": {
        "id": "IdRdmjuFr0MZ"
      },
      "source": [
        "Compute the number of bytes in one Gigabyte (1kb = 1024 bytes, 1mb = 1024 kb, 1gb = 1024 mb)"
      ]
    },
    {
      "cell_type": "code",
      "execution_count": null,
      "metadata": {
        "colab": {
          "base_uri": "https://localhost:8080/"
        },
        "id": "gCUpy2Bxr0Ma",
        "outputId": "7ba217f4-ca43-492a-ae6f-4b9922e9af2d"
      },
      "outputs": [
        {
          "output_type": "stream",
          "name": "stdout",
          "text": [
            "1073741824\n"
          ]
        }
      ],
      "source": [
        "#Write your code here\n",
        "num1=1024\n",
        "byte_in_one_gigabyte = num1*num1*num1\n",
        "print (byte_in_one_gigabyte)\n"
      ]
    },
    {
      "cell_type": "markdown",
      "metadata": {
        "id": "wQ--LlRUr0Mb"
      },
      "source": [
        "You bought 500 shares of stock A at $\\$$600 on day 0 and you sold it at  $\\$$1000 on day 700.\n",
        "The daily discount rate is 0.0001%. How much profit did you make in terms of net present value.\n"
      ]
    },
    {
      "cell_type": "code",
      "execution_count": 1,
      "metadata": {
        "id": "jt_E4hWDr0Mc",
        "colab": {
          "base_uri": "https://localhost:8080/"
        },
        "outputId": "837c1d8e-aace-457f-d863-df1a3a389d0c"
      },
      "outputs": [
        {
          "output_type": "stream",
          "name": "stdout",
          "text": [
            "Net_Present_Value= 200000\n"
          ]
        }
      ],
      "source": [
        "#Write your code here\n",
        "share= 500\n",
        "current_price=600\n",
        "sell_price= 1000\n",
        "days=700\n",
        "net_present_value= ((sell_price - current_price)*share)\n",
        "print(\"Net_Present_Value=\",net_present_value)\n",
        "\n"
      ]
    },
    {
      "cell_type": "markdown",
      "metadata": {
        "id": "2OipY_o0r0Md"
      },
      "source": [
        "For any value of x, create a variable called even_check that is True if x is even and False if x is odd."
      ]
    },
    {
      "cell_type": "code",
      "execution_count": 3,
      "metadata": {
        "run_control": {
          "marked": true
        },
        "id": "ewB67su8r0Md",
        "colab": {
          "base_uri": "https://localhost:8080/"
        },
        "outputId": "d52401b0-4036-4ab3-cdc8-9c90d614c426"
      },
      "outputs": [
        {
          "output_type": "stream",
          "name": "stdout",
          "text": [
            "x= 30\n",
            "even_check= True\n"
          ]
        }
      ],
      "source": [
        "#Write your code here\n",
        "x=30\n",
        "even_check=(x%2==0)\n",
        "print(\"x=\",x)\n",
        "print(\"even_check=\",even_check)\n",
        "\n"
      ]
    },
    {
      "cell_type": "markdown",
      "metadata": {
        "id": "K-sCfSbHr0Md"
      },
      "source": [
        "You have num_shirts t-shirts, num_shorts pairs of shorts and num_shoes pairs of shoes.  Create a variable called num_outfits that stores the total number of different outfits you can make."
      ]
    },
    {
      "cell_type": "code",
      "source": [],
      "metadata": {
        "id": "ZFIPIyJo7uL7"
      },
      "execution_count": null,
      "outputs": []
    },
    {
      "cell_type": "code",
      "execution_count": 4,
      "metadata": {
        "id": "v0G308COr0Me",
        "colab": {
          "base_uri": "https://localhost:8080/"
        },
        "outputId": "8b19aba8-9041-4fe2-f96d-c044a5db3bf5"
      },
      "outputs": [
        {
          "output_type": "stream",
          "name": "stdout",
          "text": [
            "Total number of different outfits= 70\n"
          ]
        }
      ],
      "source": [
        "#Write your code here\n",
        "num_shirts=2\n",
        "num_shorts=5\n",
        "num_shoes=7\n",
        "num_outfits=num_shirts*num_shorts*num_shoes\n",
        "print(\"Total number of different outfits=\",num_outfits)\n",
        "\n"
      ]
    },
    {
      "cell_type": "markdown",
      "metadata": {
        "id": "E15VC9iCr0Me"
      },
      "source": [
        "# String Practice\n",
        "\n",
        "Create variable called \"name\" that stores your full name. Find whether your name has an even or odd number of letters."
      ]
    },
    {
      "cell_type": "code",
      "execution_count": 8,
      "metadata": {
        "id": "1z5KqyvOr0Me",
        "colab": {
          "base_uri": "https://localhost:8080/"
        },
        "outputId": "8a6b6cf3-46e3-409c-9fd0-51e47657298f"
      },
      "outputs": [
        {
          "output_type": "stream",
          "name": "stdout",
          "text": [
            "The number of letters in my name (22) is Even.\n"
          ]
        }
      ],
      "source": [
        "#Write your code here\n",
        "name=\"Pyae Pyae Thinzar Kyaw\"\n",
        "num_letter=len(name)\n",
        "if num_letter%2==0:\n",
        "  print(f\"The number of letters in my name ({num_letter}) is Even.\")\n",
        "else:\n",
        "  print(f\"The number of letters in my name ({num_letter}) is Odd.\")\n"
      ]
    },
    {
      "cell_type": "markdown",
      "metadata": {
        "id": "HBmwBO0Yr0Mf"
      },
      "source": [
        "Correct the following variable so it is equal to \"spammy\""
      ]
    },
    {
      "cell_type": "code",
      "execution_count": 13,
      "metadata": {
        "id": "62_qhb2Br0Mf",
        "colab": {
          "base_uri": "https://localhost:8080/"
        },
        "outputId": "8aff409d-b359-4a9b-cb3a-f871e81ea735"
      },
      "outputs": [
        {
          "output_type": "stream",
          "name": "stdout",
          "text": [
            "spammy\n"
          ]
        }
      ],
      "source": [
        "#Write your code here\n",
        "s = \"spaxxy\"\n",
        "s = \"spammy\"\n",
        "print(s)\n"
      ]
    },
    {
      "cell_type": "markdown",
      "metadata": {
        "id": "TLkjMxrKr0Mf"
      },
      "source": [
        "Figure out a way to slice and combine the strings s1, s2, and s3 so that the variable consec_ints = \"123456789\"."
      ]
    },
    {
      "cell_type": "code",
      "execution_count": 18,
      "metadata": {
        "id": "28DlHUtlr0Mf",
        "colab": {
          "base_uri": "https://localhost:8080/"
        },
        "outputId": "a75ef842-28fc-4980-909f-1251f2459292"
      },
      "outputs": [
        {
          "output_type": "stream",
          "name": "stdout",
          "text": [
            "123456789\n"
          ]
        }
      ],
      "source": [
        "s1 = \"12345\"\n",
        "s2 = \"34567\"\n",
        "s3 = \"789\"\n",
        "consec_ints=s1+s2[3]+s3\n",
        "print(consec_ints)\n",
        "#Write your code here\n",
        "\n"
      ]
    },
    {
      "cell_type": "markdown",
      "metadata": {
        "id": "Iflbjw46r0Mf"
      },
      "source": [
        "#  List Practice\n",
        "\n"
      ]
    },
    {
      "cell_type": "markdown",
      "metadata": {
        "id": "WkzrBhIOr0Mg"
      },
      "source": [
        "Add the first and last elements of the list L. Store the result in a variable called sum_first_last. Your code should work if I change L."
      ]
    },
    {
      "cell_type": "code",
      "execution_count": 20,
      "metadata": {
        "id": "K0SgtepOr0Mg",
        "colab": {
          "base_uri": "https://localhost:8080/"
        },
        "outputId": "796c994e-f15b-43c9-b1dc-3a656266d724"
      },
      "outputs": [
        {
          "output_type": "stream",
          "name": "stdout",
          "text": [
            "72\n"
          ]
        }
      ],
      "source": [
        "L = [5,1,43,2,4,56,7,90, 67]\n",
        "first_element=L[0]\n",
        "last_element=L[-1]\n",
        "sum_first_last=first_element+last_element\n",
        "print(sum_first_last)\n",
        "\n",
        "#Write your code here\n"
      ]
    },
    {
      "cell_type": "markdown",
      "metadata": {
        "id": "WtJX5iPWr0Mg"
      },
      "source": [
        "Slice and combine the elements of the list L in a way to print out \"spam\"."
      ]
    },
    {
      "cell_type": "code",
      "execution_count": 1,
      "metadata": {
        "id": "yke0b7wOr0Mg",
        "colab": {
          "base_uri": "https://localhost:8080/"
        },
        "outputId": "1c4d43cf-e935-408b-c0b0-0a2f1a83f56c"
      },
      "outputs": [
        {
          "output_type": "stream",
          "name": "stdout",
          "text": [
            "spam\n"
          ]
        }
      ],
      "source": [
        "L = [1,\"s\", 2, 3, \"p\", \"a\", 34,1,\"m\"]\n",
        "s=L[1]\n",
        "p=L[4]\n",
        "a=L[5]\n",
        "m=L[8]\n",
        "word=s+p+a+m\n",
        "print(word)\n",
        "\n",
        "\n",
        "#Write your code here\n",
        "\n"
      ]
    },
    {
      "cell_type": "markdown",
      "metadata": {
        "id": "ROi-7On0r0Mg"
      },
      "source": [
        "Create a variable called num_L which store the number represented by the list of strings in L.  For the example num_L should be 145. You may assume 3 digit numbers."
      ]
    },
    {
      "cell_type": "code",
      "execution_count": 5,
      "metadata": {
        "id": "G3QQTP9Mr0Mg",
        "colab": {
          "base_uri": "https://localhost:8080/"
        },
        "outputId": "701f3206-78ad-419f-b10c-29a4398fd52d"
      },
      "outputs": [
        {
          "output_type": "stream",
          "name": "stdout",
          "text": [
            "145\n"
          ]
        }
      ],
      "source": [
        "L = [\"1\",\"4\",\"5\" ]\n",
        "num_string=\"\".join(L)\n",
        "num_L = int(num_string)\n",
        "print(num_L)\n",
        "#Write you code here\n"
      ]
    },
    {
      "cell_type": "markdown",
      "metadata": {
        "id": "L1n_fY2Vr0Mh"
      },
      "source": [
        "Create a list L of numbers of odd length.  Complete the following tasks:\n",
        "\n",
        " - Find the median element\n",
        " - Slice out all element indexed lower than the median element"
      ]
    },
    {
      "cell_type": "code",
      "execution_count": 8,
      "metadata": {
        "id": "zFKo2nmgr0Mh",
        "colab": {
          "base_uri": "https://localhost:8080/"
        },
        "outputId": "fffa5462-684c-4222-82df-1e8426c8274d"
      },
      "outputs": [
        {
          "output_type": "stream",
          "name": "stdout",
          "text": [
            "The median element is:5\n",
            "All element indexed lower than the median element is:[2, 3, 4]\n"
          ]
        }
      ],
      "source": [
        "L= [4,5,3,2,6,6,9]\n",
        "L.sort()\n",
        "n=len(L)\n",
        "median_index=n//2\n",
        "median_element=L[median_index]\n",
        "print(f\"The median element is:{median_element}\")\n",
        "\n",
        "L.sort()\n",
        "median_index1=len(L)//2\n",
        "sliced_list=L[:median_index1]\n",
        "print(f\"All element indexed lower than the median element is:{sliced_list}\")\n",
        "#Write your code here\n"
      ]
    }
  ],
  "metadata": {
    "kernelspec": {
      "display_name": "Python 3",
      "language": "python",
      "name": "python3"
    },
    "language_info": {
      "codemirror_mode": {
        "name": "ipython",
        "version": 3
      },
      "file_extension": ".py",
      "mimetype": "text/x-python",
      "name": "python",
      "nbconvert_exporter": "python",
      "pygments_lexer": "ipython3",
      "version": "3.6.0"
    },
    "toc": {
      "colors": {
        "hover_highlight": "#DAA520",
        "navigate_num": "#000000",
        "navigate_text": "#333333",
        "running_highlight": "#FF0000",
        "selected_highlight": "#FFD700",
        "sidebar_border": "#EEEEEE",
        "wrapper_background": "#FFFFFF"
      },
      "moveMenuLeft": true,
      "nav_menu": {
        "height": "12px",
        "width": "252px"
      },
      "navigate_menu": true,
      "number_sections": true,
      "sideBar": true,
      "skip_h1_title": false,
      "threshold": 4,
      "toc_cell": false,
      "toc_position": {},
      "toc_section_display": "block",
      "toc_window_display": false,
      "widenNotebook": false
    },
    "colab": {
      "provenance": [],
      "include_colab_link": true
    }
  },
  "nbformat": 4,
  "nbformat_minor": 0
}